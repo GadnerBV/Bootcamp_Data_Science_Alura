{
  "nbformat": 4,
  "nbformat_minor": 0,
  "metadata": {
    "colab": {
      "name": "Untitled0.ipynb",
      "provenance": [],
      "toc_visible": true,
      "authorship_tag": "ABX9TyM7kd6Xhcbk/AIbdRfUo2Q5",
      "include_colab_link": true
    },
    "kernelspec": {
      "name": "python3",
      "display_name": "Python 3"
    },
    "language_info": {
      "name": "python"
    }
  },
  "cells": [
    {
      "cell_type": "markdown",
      "metadata": {
        "id": "view-in-github",
        "colab_type": "text"
      },
      "source": [
        "<a href=\"https://colab.research.google.com/github/GadnerBV/Bootcamp_Data_Science_Alura/blob/main/Untitled0.ipynb\" target=\"_parent\"><img src=\"https://colab.research.google.com/assets/colab-badge.svg\" alt=\"Open In Colab\"/></a>"
      ]
    },
    {
      "cell_type": "markdown",
      "metadata": {
        "id": "K-36itTiph6Q"
      },
      "source": [
        "Minha primeira seção"
      ]
    },
    {
      "cell_type": "markdown",
      "metadata": {
        "id": "rJ-KXZqmt65m"
      },
      "source": [
        "Testando a funcionalidade de Texto, do google Colab, e posteriormente testarei a de código."
      ]
    },
    {
      "cell_type": "code",
      "metadata": {
        "colab": {
          "base_uri": "https://localhost:8080/"
        },
        "id": "EO3WLDExpevS",
        "outputId": "29c4a14d-9e62-4713-f06b-21d30f57cc1c"
      },
      "source": [
        "print (\"Hello World !\")"
      ],
      "execution_count": 2,
      "outputs": [
        {
          "output_type": "stream",
          "name": "stdout",
          "text": [
            "Hello World !\n"
          ]
        }
      ]
    }
  ]
}